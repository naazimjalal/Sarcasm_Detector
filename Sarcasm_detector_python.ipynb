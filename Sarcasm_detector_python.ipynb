{
  "nbformat": 4,
  "nbformat_minor": 0,
  "metadata": {
    "colab": {
      "name": "Sarcasm-detector-python",
      "provenance": [],
      "collapsed_sections": [],
      "authorship_tag": "ABX9TyOcBIwTGz8XzCf2FbZsn0S3",
      "include_colab_link": true
    },
    "kernelspec": {
      "name": "python3",
      "display_name": "Python 3"
    },
    "language_info": {
      "name": "python"
    }
  },
  "cells": [
    {
      "cell_type": "markdown",
      "metadata": {
        "id": "view-in-github",
        "colab_type": "text"
      },
      "source": [
        "<a href=\"https://colab.research.google.com/github/naazimjalal/Sarcasm_Detector/blob/main/Sarcasm_detector_python.ipynb\" target=\"_parent\"><img src=\"https://colab.research.google.com/assets/colab-badge.svg\" alt=\"Open In Colab\"/></a>"
      ]
    },
    {
      "cell_type": "code",
      "metadata": {
        "id": "FyTKSDfEO9_v"
      },
      "source": [
        "try:\n",
        "except Exception:\n",
        "  pass"
      ],
      "execution_count": null,
      "outputs": []
    },
    {
      "cell_type": "code",
      "metadata": {
        "colab": {
          "base_uri": "https://localhost:8080/"
        },
        "id": "I3HC2w9hPJQo",
        "outputId": "ee12514b-9c3a-4597-97bf-8af1eefb3ed0"
      },
      "source": [
        "import json\n",
        "import tensorflow as tf\n",
        "import numpy as np\n",
        "from tensorflow.keras.preprocessing.text import Tokenizer\n",
        "from tensorflow.keras.preprocessing.sequence import pad_sequences\n",
        "vocab_size = 10000\n",
        "embedding_dim = 16\n",
        "max_length = 100\n",
        "trunc_type='post'\n",
        "padding_type='post'\n",
        "oov_tok = \"<OOV>\"\n",
        "training_size = 20000\n",
        "!wget --no-check-certificate \\\n",
        "    https://storage.googleapis.com/laurencemoroney-blog.appspot.com/sarcasm.json \\\n",
        "    -O /tmp/sarcasm.json\n",
        "with open(\"/tmp/sarcasm.json\", 'r') as f:\n",
        "    datastore = json.load(f)\n",
        "sentences = []\n",
        "labels = []\n",
        "for item in datastore:\n",
        "    sentences.append(item['headline'])\n",
        "    labels.append(item['is_sarcastic'])\n",
        "training_sentences = sentences[0:training_size]\n",
        "testing_sentences = sentences[training_size:]\n",
        "training_labels = labels[0:training_size]\n",
        "testing_labels = labels[training_size:]\n",
        "tokenizer = Tokenizer(num_words=vocab_size, oov_token=oov_tok)\n",
        "tokenizer.fit_on_texts(training_sentences)\n",
        "word_index = tokenizer.word_index\n",
        "training_sequences = tokenizer.texts_to_sequences(training_sentences)\n",
        "training_padded = pad_sequences(training_sequences, maxlen=max_length, padding=padding_type, truncating=trunc_type)\n",
        "testing_sequences = tokenizer.texts_to_sequences(testing_sentences)\n",
        "testing_padded = pad_sequences(testing_sequences, maxlen=max_length, padding=padding_type, truncating=trunc_type)\n",
        "training_padded = np.array(training_padded)\n",
        "training_labels = np.array(training_labels)\n",
        "testing_padded = np.array(testing_padded)\n",
        "testing_labels = np.array(testing_labels)\n",
        "model = tf.keras.Sequential([\n",
        "    tf.keras.layers.Embedding(vocab_size, embedding_dim, input_length=max_length),\n",
        "    tf.keras.layers.GlobalAveragePooling1D(),\n",
        "    tf.keras.layers.Dense(24, activation='relu'),\n",
        "    tf.keras.layers.Dense(1, activation='sigmoid')\n",
        "])\n",
        "model.compile(loss='binary_crossentropy',optimizer='adam',metrics=['accuracy'])\n",
        "model.summary()\n",
        "num_epochs = 30\n",
        "history = model.fit(training_padded, training_labels, epochs=num_epochs, validation_data=(testing_padded, testing_labels), verbose=2)\n",
        "reverse_word_index = dict([(value, key) for (key, value) in word_index.items()])\n",
        "\n",
        "def decode_sentence(text):\n",
        "    return ' '.join([reverse_word_index.get(i, '?') for i in text])\n",
        "\n",
        "print(decode_sentence(training_padded[0]))\n",
        "print(training_sentences[2])\n",
        "print(labels[2])\n",
        "e = model.layers[0]\n",
        "weights = e.get_weights()[0]\n",
        "print(weights.shape) # shape: (vocab_size, embedding_dim)\n"
      ],
      "execution_count": null,
      "outputs": [
        {
          "output_type": "stream",
          "name": "stdout",
          "text": [
            "--2021-09-04 09:59:37--  https://storage.googleapis.com/laurencemoroney-blog.appspot.com/sarcasm.json\n",
            "Resolving storage.googleapis.com (storage.googleapis.com)... 209.85.147.128, 142.250.125.128, 142.250.136.128, ...\n",
            "Connecting to storage.googleapis.com (storage.googleapis.com)|209.85.147.128|:443... connected.\n",
            "HTTP request sent, awaiting response... 200 OK\n",
            "Length: 5643545 (5.4M) [application/json]\n",
            "Saving to: ‘/tmp/sarcasm.json’\n",
            "\n",
            "\r/tmp/sarcasm.json     0%[                    ]       0  --.-KB/s               \r/tmp/sarcasm.json   100%[===================>]   5.38M  --.-KB/s    in 0.03s   \n",
            "\n",
            "2021-09-04 09:59:37 (154 MB/s) - ‘/tmp/sarcasm.json’ saved [5643545/5643545]\n",
            "\n",
            "Model: \"sequential\"\n",
            "_________________________________________________________________\n",
            "Layer (type)                 Output Shape              Param #   \n",
            "=================================================================\n",
            "embedding (Embedding)        (None, 100, 16)           160000    \n",
            "_________________________________________________________________\n",
            "global_average_pooling1d (Gl (None, 16)                0         \n",
            "_________________________________________________________________\n",
            "dense (Dense)                (None, 24)                408       \n",
            "_________________________________________________________________\n",
            "dense_1 (Dense)              (None, 1)                 25        \n",
            "=================================================================\n",
            "Total params: 160,433\n",
            "Trainable params: 160,433\n",
            "Non-trainable params: 0\n",
            "_________________________________________________________________\n",
            "Epoch 1/30\n",
            "625/625 - 3s - loss: 0.6689 - accuracy: 0.5727 - val_loss: 0.5924 - val_accuracy: 0.7326\n",
            "Epoch 2/30\n",
            "625/625 - 2s - loss: 0.4320 - accuracy: 0.8271 - val_loss: 0.3865 - val_accuracy: 0.8351\n",
            "Epoch 3/30\n",
            "625/625 - 2s - loss: 0.3052 - accuracy: 0.8778 - val_loss: 0.3603 - val_accuracy: 0.8426\n",
            "Epoch 4/30\n",
            "625/625 - 2s - loss: 0.2544 - accuracy: 0.8993 - val_loss: 0.3469 - val_accuracy: 0.8505\n",
            "Epoch 5/30\n",
            "625/625 - 2s - loss: 0.2189 - accuracy: 0.9150 - val_loss: 0.3438 - val_accuracy: 0.8550\n",
            "Epoch 6/30\n",
            "625/625 - 2s - loss: 0.1892 - accuracy: 0.9285 - val_loss: 0.3558 - val_accuracy: 0.8545\n",
            "Epoch 7/30\n",
            "625/625 - 2s - loss: 0.1690 - accuracy: 0.9357 - val_loss: 0.3691 - val_accuracy: 0.8547\n",
            "Epoch 8/30\n",
            "625/625 - 2s - loss: 0.1493 - accuracy: 0.9462 - val_loss: 0.4017 - val_accuracy: 0.8477\n",
            "Epoch 9/30\n",
            "625/625 - 2s - loss: 0.1349 - accuracy: 0.9510 - val_loss: 0.4129 - val_accuracy: 0.8486\n",
            "Epoch 10/30\n",
            "625/625 - 2s - loss: 0.1201 - accuracy: 0.9593 - val_loss: 0.4308 - val_accuracy: 0.8492\n",
            "Epoch 11/30\n",
            "625/625 - 2s - loss: 0.1095 - accuracy: 0.9625 - val_loss: 0.4560 - val_accuracy: 0.8480\n",
            "Epoch 12/30\n",
            "625/625 - 2s - loss: 0.1018 - accuracy: 0.9635 - val_loss: 0.4885 - val_accuracy: 0.8410\n",
            "Epoch 13/30\n",
            "625/625 - 2s - loss: 0.0924 - accuracy: 0.9681 - val_loss: 0.5084 - val_accuracy: 0.8416\n",
            "Epoch 14/30\n",
            "625/625 - 2s - loss: 0.0823 - accuracy: 0.9732 - val_loss: 0.5403 - val_accuracy: 0.8389\n",
            "Epoch 15/30\n",
            "625/625 - 2s - loss: 0.0743 - accuracy: 0.9761 - val_loss: 0.5709 - val_accuracy: 0.8375\n",
            "Epoch 16/30\n",
            "625/625 - 2s - loss: 0.0683 - accuracy: 0.9789 - val_loss: 0.6084 - val_accuracy: 0.8341\n",
            "Epoch 17/30\n",
            "625/625 - 2s - loss: 0.0622 - accuracy: 0.9802 - val_loss: 0.6463 - val_accuracy: 0.8310\n",
            "Epoch 18/30\n",
            "625/625 - 2s - loss: 0.0568 - accuracy: 0.9824 - val_loss: 0.6802 - val_accuracy: 0.8295\n",
            "Epoch 19/30\n",
            "625/625 - 2s - loss: 0.0515 - accuracy: 0.9840 - val_loss: 0.7181 - val_accuracy: 0.8277\n",
            "Epoch 20/30\n",
            "625/625 - 2s - loss: 0.0479 - accuracy: 0.9852 - val_loss: 0.7591 - val_accuracy: 0.8265\n",
            "Epoch 21/30\n",
            "625/625 - 2s - loss: 0.0469 - accuracy: 0.9847 - val_loss: 0.7944 - val_accuracy: 0.8234\n",
            "Epoch 22/30\n",
            "625/625 - 2s - loss: 0.0418 - accuracy: 0.9865 - val_loss: 0.8338 - val_accuracy: 0.8198\n",
            "Epoch 23/30\n",
            "625/625 - 2s - loss: 0.0360 - accuracy: 0.9889 - val_loss: 0.8679 - val_accuracy: 0.8208\n",
            "Epoch 24/30\n",
            "625/625 - 2s - loss: 0.0350 - accuracy: 0.9898 - val_loss: 0.9016 - val_accuracy: 0.8189\n",
            "Epoch 25/30\n",
            "625/625 - 2s - loss: 0.0316 - accuracy: 0.9908 - val_loss: 0.9512 - val_accuracy: 0.8182\n",
            "Epoch 26/30\n",
            "625/625 - 2s - loss: 0.0277 - accuracy: 0.9922 - val_loss: 0.9850 - val_accuracy: 0.8167\n",
            "Epoch 27/30\n",
            "625/625 - 2s - loss: 0.0254 - accuracy: 0.9934 - val_loss: 1.0754 - val_accuracy: 0.8123\n",
            "Epoch 28/30\n",
            "625/625 - 2s - loss: 0.0247 - accuracy: 0.9918 - val_loss: 1.0726 - val_accuracy: 0.8122\n",
            "Epoch 29/30\n",
            "625/625 - 2s - loss: 0.0228 - accuracy: 0.9931 - val_loss: 1.1081 - val_accuracy: 0.8131\n",
            "Epoch 30/30\n",
            "625/625 - 2s - loss: 0.0212 - accuracy: 0.9937 - val_loss: 1.1456 - val_accuracy: 0.8125\n",
            "former <OOV> store clerk sues over secret 'black <OOV> for minority shoppers ? ? ? ? ? ? ? ? ? ? ? ? ? ? ? ? ? ? ? ? ? ? ? ? ? ? ? ? ? ? ? ? ? ? ? ? ? ? ? ? ? ? ? ? ? ? ? ? ? ? ? ? ? ? ? ? ? ? ? ? ? ? ? ? ? ? ? ? ? ? ? ? ? ? ? ? ? ? ? ? ? ? ? ? ? ? ? ?\n",
            "mom starting to fear son's web series closest thing she will have to grandchild\n",
            "1\n",
            "(10000, 16)\n"
          ]
        }
      ]
    },
    {
      "cell_type": "code",
      "metadata": {
        "colab": {
          "base_uri": "https://localhost:8080/",
          "height": 545
        },
        "id": "W84HNzeGQMfV",
        "outputId": "3d44f236-717a-4bc7-901b-c329a69cd786"
      },
      "source": [
        "import matplotlib.pyplot as plt\n",
        "\n",
        "\n",
        "def plot_graphs(history, string):\n",
        "  plt.plot(history.history[string])\n",
        "  plt.plot(history.history['val_'+string])\n",
        "  plt.xlabel(\"Epochs\")\n",
        "  plt.ylabel(string)\n",
        "  plt.legend([string, 'val_'+string])\n",
        "  plt.show()\n",
        "  \n",
        "plot_graphs(history, \"accuracy\")\n",
        "plot_graphs(history, \"loss\")"
      ],
      "execution_count": null,
      "outputs": [
        {
          "output_type": "display_data",
          "data": {
            "image/png": "[encoded data removed]",
            "text/plain": [
              "<Figure size 432x288 with 1 Axes>"
            ]
          },
          "metadata": {
            "needs_background": "light"
          }
        },
        {
          "output_type": "display_data",
          "data": {
            "image/png": "[encoded data removed]",
            "text/plain": [
              "<Figure size 432x288 with 1 Axes>"
            ]
          },
          "metadata": {
            "needs_background": "light"
          }
        }
      ]
    },
    {
      "cell_type": "code",
      "metadata": {
        "colab": {
          "base_uri": "https://localhost:8080/"
        },
        "id": "ANfO8KQmPvnV",
        "outputId": "65fbfc2d-fd2f-4f0a-d992-90e3a5060d8d"
      },
      "source": [
        "input_for_test = input(\"Enter a comment : \")\n",
        "sentence = [input_for_test]\n",
        "sequences = tokenizer.texts_to_sequences(sentence)\n",
        "padded = pad_sequences(sequences, maxlen=max_length, padding=padding_type, truncating=trunc_type)\n",
        "if (model.predict(padded)[0][0]*100>80):\n",
        "  print(\"sarcastic\")\n",
        "else:\n",
        "  print('not sarcastic')"
      ],
      "execution_count": null,
      "outputs": [
        {
          "output_type": "stream",
          "name": "stdout",
          "text": [
            "Enter a comment : you smashed my windows great job \n",
            "sarcastic\n"
          ]
        }
      ]
    }
  ]
}